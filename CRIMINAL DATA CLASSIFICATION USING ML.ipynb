{
 "cells": [
  {
   "cell_type": "markdown",
   "metadata": {},
   "source": [
    "# IMPORTING ALL USEFUL LIBRARIES"
   ]
  },
  {
   "cell_type": "code",
   "execution_count": 19,
   "metadata": {},
   "outputs": [],
   "source": [
    "# Load libraries\n",
    "import numpy as np\n",
    "import pandas as pd\n",
    "%matplotlib inline\n",
    "import matplotlib.pyplot as plt\n",
    "import seaborn as sns\n",
    "import pandas as pd\n",
    "\n",
    "# Import Decision Tree Classifier\n",
    "from sklearn.tree import DecisionTreeClassifier\n",
    "\n",
    "# Import SVC\n",
    "from sklearn.svm import SVC\n",
    "\n",
    "# Import Naive bayes\n",
    "from sklearn.naive_bayes import MultinomialNB\n",
    "\n",
    "# Import SGD Classifier\n",
    "from sklearn.linear_model import SGDClassifier\n",
    "\n",
    "# Import RandomForestClassifier\n",
    "from sklearn.ensemble import RandomForestClassifier\n",
    "\n",
    "# Import KNeighborsClassifier\n",
    "from sklearn.neighbors import KNeighborsClassifier\n",
    "\n",
    "# Import LogisticRegression\n",
    "from sklearn.linear_model import LogisticRegression\n",
    "\n",
    "# Import QDA\n",
    "from sklearn.discriminant_analysis import LinearDiscriminantAnalysis, QuadraticDiscriminantAnalysis\n",
    "\n",
    "# Import train_test_split function\n",
    "from sklearn.model_selection import train_test_split, GridSearchCV \n",
    "\n",
    "#Import scikit-learn metrics module for accuracy calculation\n",
    "from sklearn import metrics \n",
    "\n",
    "#Import CountVectorizer\n",
    "from sklearn.feature_extraction.text import CountVectorizer\n",
    "\n",
    "#Import classification_report\n",
    "from sklearn.metrics import classification_report\n",
    "\n",
    "from sklearn_evaluation.plot import confusion_matrix"
   ]
  },
  {
   "cell_type": "markdown",
   "metadata": {},
   "source": [
    "# LOADING DATASET USED"
   ]
  },
  {
   "cell_type": "code",
   "execution_count": 2,
   "metadata": {},
   "outputs": [
    {
     "data": {
      "text/html": [
       "<div>\n",
       "<style scoped>\n",
       "    .dataframe tbody tr th:only-of-type {\n",
       "        vertical-align: middle;\n",
       "    }\n",
       "\n",
       "    .dataframe tbody tr th {\n",
       "        vertical-align: top;\n",
       "    }\n",
       "\n",
       "    .dataframe thead th {\n",
       "        text-align: right;\n",
       "    }\n",
       "</style>\n",
       "<table border=\"1\" class=\"dataframe\">\n",
       "  <thead>\n",
       "    <tr style=\"text-align: right;\">\n",
       "      <th></th>\n",
       "      <th>ID Number</th>\n",
       "      <th>Case</th>\n",
       "      <th>Section (IPC)</th>\n",
       "      <th>Judgment Date</th>\n",
       "      <th>Chapter</th>\n",
       "    </tr>\n",
       "  </thead>\n",
       "  <tbody>\n",
       "    <tr>\n",
       "      <th>0</th>\n",
       "      <td>1</td>\n",
       "      <td>The deceased in her\\nstatement stated that the...</td>\n",
       "      <td>302</td>\n",
       "      <td>14-Mar-19</td>\n",
       "      <td>Sixteen</td>\n",
       "    </tr>\n",
       "    <tr>\n",
       "      <th>1</th>\n",
       "      <td>2</td>\n",
       "      <td>additionally respondent Makrand Singh for caus...</td>\n",
       "      <td>302</td>\n",
       "      <td>14-Jan-19</td>\n",
       "      <td>Sixteen</td>\n",
       "    </tr>\n",
       "    <tr>\n",
       "      <th>2</th>\n",
       "      <td>3</td>\n",
       "      <td>Ms. Kailashi was\\nreturning from the farm, in ...</td>\n",
       "      <td>304</td>\n",
       "      <td>10-Apr-19</td>\n",
       "      <td>Sixteen</td>\n",
       "    </tr>\n",
       "    <tr>\n",
       "      <th>3</th>\n",
       "      <td>4</td>\n",
       "      <td>When they reached near Advocate Mishra’s lane,...</td>\n",
       "      <td>294</td>\n",
       "      <td>19-Feb-19</td>\n",
       "      <td>Fourteen</td>\n",
       "    </tr>\n",
       "    <tr>\n",
       "      <th>4</th>\n",
       "      <td>5</td>\n",
       "      <td>It was stated that seven named persons includi...</td>\n",
       "      <td>452</td>\n",
       "      <td>11-Apr-19</td>\n",
       "      <td>Seventeen</td>\n",
       "    </tr>\n",
       "  </tbody>\n",
       "</table>\n",
       "</div>"
      ],
      "text/plain": [
       "   ID Number                                               Case Section (IPC)  \\\n",
       "0          1  The deceased in her\\nstatement stated that the...           302   \n",
       "1          2  additionally respondent Makrand Singh for caus...           302   \n",
       "2          3  Ms. Kailashi was\\nreturning from the farm, in ...           304   \n",
       "3          4  When they reached near Advocate Mishra’s lane,...           294   \n",
       "4          5  It was stated that seven named persons includi...           452   \n",
       "\n",
       "  Judgment Date    Chapter  \n",
       "0     14-Mar-19    Sixteen  \n",
       "1     14-Jan-19    Sixteen  \n",
       "2     10-Apr-19    Sixteen  \n",
       "3     19-Feb-19   Fourteen  \n",
       "4     11-Apr-19  Seventeen  "
      ]
     },
     "execution_count": 2,
     "metadata": {},
     "output_type": "execute_result"
    }
   ],
   "source": [
    "# load dataset\n",
    "data = pd.read_csv(\"data.csv\")\n",
    "data.head()"
   ]
  },
  {
   "cell_type": "code",
   "execution_count": 3,
   "metadata": {},
   "outputs": [
    {
     "data": {
      "text/plain": [
       "array(['Sixteen', 'Fourteen', 'Seventeen', 'Twenty', 'Eight', 'Four',\n",
       "       'Ten', 'Nine', 'Eleven', 'Five', 'Fifteen'], dtype=object)"
      ]
     },
     "execution_count": 3,
     "metadata": {},
     "output_type": "execute_result"
    }
   ],
   "source": [
    "# unique category labels\n",
    "data['Chapter'].unique() "
   ]
  },
  {
   "cell_type": "markdown",
   "metadata": {},
   "source": [
    "# REPRESENTING FREQUENCY OF CHAPTERS"
   ]
  },
  {
   "cell_type": "code",
   "execution_count": 4,
   "metadata": {},
   "outputs": [
    {
     "data": {
      "text/plain": [
       "(-1.1142375321128322,\n",
       " 1.1006779792841213,\n",
       " -1.105451164586582,\n",
       " 1.1088341058560176)"
      ]
     },
     "execution_count": 4,
     "metadata": {},
     "output_type": "execute_result"
    },
    {
     "data": {
      "image/png": "[encoded data removed]",
      "text/plain": [
       "<Figure size 576x432 with 1 Axes>"
      ]
     },
     "metadata": {},
     "output_type": "display_data"
    }
   ],
   "source": [
    "data.Chapter.value_counts().plot(kind='pie', \n",
    "                                  figsize=(8,6), \n",
    "                                  fontsize=13, \n",
    "                                  autopct='%1.1f%%', \n",
    "                                  wedgeprops={'linewidth': 5}\n",
    "                                  )\n",
    "plt.axis('off')\n",
    "plt.axis('equal')"
   ]
  },
  {
   "cell_type": "code",
   "execution_count": 5,
   "metadata": {},
   "outputs": [],
   "source": [
    "#Lower Case and removing all puntuation marks from the \"Case\"\n",
    "data['Case'] = data['Case'].str.replace('[^\\w\\s]','').str.lower() "
   ]
  },
  {
   "cell_type": "markdown",
   "metadata": {},
   "source": [
    "# CREATING DATAFRAME FOR EACH CHAPTER"
   ]
  },
  {
   "cell_type": "code",
   "execution_count": null,
   "metadata": {},
   "outputs": [],
   "source": [
    "# create dataframe for each Chapter\n",
    "IPC_14 = data.loc[data['Chapter'] == 'Fourteen'] \n",
    "IPC_16 = data.loc[data['Chapter'] == 'Sixteen'] \n",
    "IPC_17 = data.loc[data['Chapter'] == 'Seventeen'] \n",
    "IPC_20 = data.loc[data['Chapter'] == 'Twenty'] \n",
    "IPC_8 = data.loc[data['Chapter'] == 'Eight'] \n",
    "IPC_4 = data.loc[data['Chapter'] == 'Four'] \n",
    "IPC_10 = data.loc[data['Chapter'] == 'Ten'] \n",
    "IPC_9 = data.loc[data['Chapter'] == 'Nine'] \n",
    "IPC_5 = data.loc[data['Chapter'] == 'Five'] \n",
    "IPC_11 = data.loc[data['Chapter'] == 'Eleven'] \n",
    "IPC_15 = data.loc[data['Chapter'] == 'Fifteen'] \n",
    " \n",
    "Case_14 = IPC_14['Case'].to_string()\n",
    "Case_16 = IPC_16['Case'].to_string()\n",
    "Case_17 = IPC_17['Case'].to_string()\n",
    "Case_20 = IPC_20['Case'].to_string()\n",
    "Case_8 = IPC_8['Case'].to_string()\n",
    "Case_4 = IPC_4['Case'].to_string()\n",
    "Case_10 = IPC_10['Case'].to_string()\n",
    "Case_9 = IPC_9['Case'].to_string()\n",
    "Case_5 = IPC_5['Case'].to_string()\n",
    "Case_11 = IPC_11['Case'].to_string()\n",
    "Case_15 = IPC_15['Case'].to_string()"
   ]
  },
  {
   "cell_type": "markdown",
   "metadata": {},
   "source": [
    "# 1. NAVE BAYES"
   ]
  },
  {
   "cell_type": "code",
   "execution_count": 16,
   "metadata": {},
   "outputs": [
    {
     "name": "stdout",
     "output_type": "stream",
     "text": [
      "             precision    recall  f1-score   support\n",
      "\n",
      "      Eight       0.00      0.00      0.00         3\n",
      "     Eleven       0.00      0.00      0.00         2\n",
      "    Fifteen       0.00      0.00      0.00         0\n",
      "       Five       0.00      0.00      0.00         1\n",
      "       Four       0.00      0.00      0.00         0\n",
      "   Fourteen       0.00      0.00      0.00         3\n",
      "       Nine       0.00      0.00      0.00         2\n",
      "  Seventeen       0.75      0.43      0.55         7\n",
      "    Sixteen       0.76      0.78      0.77        40\n",
      "        Ten       0.00      0.00      0.00         1\n",
      "     Twenty       0.00      0.00      0.00         1\n",
      "\n",
      "avg / total       0.59      0.57      0.57        60\n",
      "\n",
      "Accuracy: 0.5666666666666667\n"
     ]
    },
    {
     "name": "stderr",
     "output_type": "stream",
     "text": [
      "E:\\python\\lib\\site-packages\\sklearn\\metrics\\classification.py:1135: UndefinedMetricWarning: Precision and F-score are ill-defined and being set to 0.0 in labels with no predicted samples.\n",
      "  'precision', 'predicted', average, warn_for)\n",
      "E:\\python\\lib\\site-packages\\sklearn\\metrics\\classification.py:1137: UndefinedMetricWarning: Recall and F-score are ill-defined and being set to 0.0 in labels with no true samples.\n",
      "  'recall', 'true', average, warn_for)\n"
     ]
    }
   ],
   "source": [
    "# convert data to vectors\n",
    "vectorizer = CountVectorizer(stop_words='english')\n",
    "X = vectorizer.fit_transform(data['Case'])\n",
    "\n",
    "y = data['Chapter']\n",
    "\n",
    "#I will split data 60%\n",
    "X_train, X_test, y_train, y_test = train_test_split(X, y, test_size=0.5) \n",
    "\n",
    "# fit and score the bayesian classifier\n",
    "mnb = MultinomialNB(alpha=1)\n",
    "\n",
    "\n",
    "mnb.fit(X_train, y_train)\n",
    "\n",
    "y_pred = mnb.predict(X_test)\n",
    "\n",
    "\n",
    "print(classification_report(y_test, y_pred))\n",
    "print(\"Accuracy:\",metrics.accuracy_score(y_test, y_pred))"
   ]
  },
  {
   "cell_type": "markdown",
   "metadata": {},
   "source": [
    "# CONFUSION MATRIX"
   ]
  },
  {
   "cell_type": "code",
   "execution_count": 17,
   "metadata": {},
   "outputs": [
    {
     "data": {
      "image/png": "[encoded data removed]",
      "text/plain": [
       "<Figure size 432x288 with 2 Axes>"
      ]
     },
     "metadata": {
      "needs_background": "light"
     },
     "output_type": "display_data"
    }
   ],
   "source": [
    "#Confusion Matrix\n",
    "confusion_matrix(y_test, mnb.predict(X_test), target_names = ['Sixteen', 'Fourteen', 'Seventeen', 'Twenty', 'Eight', 'Four', 'Ten', 'Nine', 'Five', 'Fifteen', 'Eleven']).grid(True)"
   ]
  },
  {
   "cell_type": "markdown",
   "metadata": {},
   "source": [
    "# 2. SGD CLASSIFIER"
   ]
  },
  {
   "cell_type": "code",
   "execution_count": 23,
   "metadata": {},
   "outputs": [
    {
     "name": "stderr",
     "output_type": "stream",
     "text": [
      "E:\\python\\lib\\site-packages\\sklearn\\model_selection\\_split.py:605: Warning: The least populated class in y has only 1 members, which is too few. The minimum number of members in any class cannot be less than n_splits=3.\n",
      "  % (min_groups, self.n_splits)), Warning)\n",
      "E:\\python\\lib\\site-packages\\sklearn\\linear_model\\stochastic_gradient.py:117: DeprecationWarning: n_iter parameter is deprecated in 0.19 and will be removed in 0.21. Use max_iter and tol instead.\n",
      "  DeprecationWarning)\n",
      "E:\\python\\lib\\site-packages\\sklearn\\linear_model\\stochastic_gradient.py:117: DeprecationWarning: n_iter parameter is deprecated in 0.19 and will be removed in 0.21. Use max_iter and tol instead.\n",
      "  DeprecationWarning)\n",
      "E:\\python\\lib\\site-packages\\sklearn\\linear_model\\stochastic_gradient.py:117: DeprecationWarning: n_iter parameter is deprecated in 0.19 and will be removed in 0.21. Use max_iter and tol instead.\n",
      "  DeprecationWarning)\n",
      "E:\\python\\lib\\site-packages\\sklearn\\linear_model\\stochastic_gradient.py:117: DeprecationWarning: n_iter parameter is deprecated in 0.19 and will be removed in 0.21. Use max_iter and tol instead.\n",
      "  DeprecationWarning)\n",
      "E:\\python\\lib\\site-packages\\sklearn\\linear_model\\stochastic_gradient.py:117: DeprecationWarning: n_iter parameter is deprecated in 0.19 and will be removed in 0.21. Use max_iter and tol instead.\n",
      "  DeprecationWarning)\n",
      "E:\\python\\lib\\site-packages\\sklearn\\linear_model\\stochastic_gradient.py:117: DeprecationWarning: n_iter parameter is deprecated in 0.19 and will be removed in 0.21. Use max_iter and tol instead.\n",
      "  DeprecationWarning)\n",
      "E:\\python\\lib\\site-packages\\sklearn\\linear_model\\stochastic_gradient.py:117: DeprecationWarning: n_iter parameter is deprecated in 0.19 and will be removed in 0.21. Use max_iter and tol instead.\n",
      "  DeprecationWarning)\n",
      "E:\\python\\lib\\site-packages\\sklearn\\linear_model\\stochastic_gradient.py:117: DeprecationWarning: n_iter parameter is deprecated in 0.19 and will be removed in 0.21. Use max_iter and tol instead.\n",
      "  DeprecationWarning)\n",
      "E:\\python\\lib\\site-packages\\sklearn\\linear_model\\stochastic_gradient.py:117: DeprecationWarning: n_iter parameter is deprecated in 0.19 and will be removed in 0.21. Use max_iter and tol instead.\n",
      "  DeprecationWarning)\n",
      "E:\\python\\lib\\site-packages\\sklearn\\linear_model\\stochastic_gradient.py:117: DeprecationWarning: n_iter parameter is deprecated in 0.19 and will be removed in 0.21. Use max_iter and tol instead.\n",
      "  DeprecationWarning)\n",
      "E:\\python\\lib\\site-packages\\sklearn\\linear_model\\stochastic_gradient.py:117: DeprecationWarning: n_iter parameter is deprecated in 0.19 and will be removed in 0.21. Use max_iter and tol instead.\n",
      "  DeprecationWarning)\n",
      "E:\\python\\lib\\site-packages\\sklearn\\linear_model\\stochastic_gradient.py:117: DeprecationWarning: n_iter parameter is deprecated in 0.19 and will be removed in 0.21. Use max_iter and tol instead.\n",
      "  DeprecationWarning)\n",
      "E:\\python\\lib\\site-packages\\sklearn\\linear_model\\stochastic_gradient.py:117: DeprecationWarning: n_iter parameter is deprecated in 0.19 and will be removed in 0.21. Use max_iter and tol instead.\n",
      "  DeprecationWarning)\n",
      "E:\\python\\lib\\site-packages\\sklearn\\linear_model\\stochastic_gradient.py:117: DeprecationWarning: n_iter parameter is deprecated in 0.19 and will be removed in 0.21. Use max_iter and tol instead.\n",
      "  DeprecationWarning)\n",
      "E:\\python\\lib\\site-packages\\sklearn\\linear_model\\stochastic_gradient.py:117: DeprecationWarning: n_iter parameter is deprecated in 0.19 and will be removed in 0.21. Use max_iter and tol instead.\n",
      "  DeprecationWarning)\n",
      "E:\\python\\lib\\site-packages\\sklearn\\linear_model\\stochastic_gradient.py:117: DeprecationWarning: n_iter parameter is deprecated in 0.19 and will be removed in 0.21. Use max_iter and tol instead.\n",
      "  DeprecationWarning)\n",
      "E:\\python\\lib\\site-packages\\sklearn\\linear_model\\stochastic_gradient.py:117: DeprecationWarning: n_iter parameter is deprecated in 0.19 and will be removed in 0.21. Use max_iter and tol instead.\n",
      "  DeprecationWarning)\n",
      "E:\\python\\lib\\site-packages\\sklearn\\linear_model\\stochastic_gradient.py:117: DeprecationWarning: n_iter parameter is deprecated in 0.19 and will be removed in 0.21. Use max_iter and tol instead.\n",
      "  DeprecationWarning)\n",
      "E:\\python\\lib\\site-packages\\sklearn\\linear_model\\stochastic_gradient.py:117: DeprecationWarning: n_iter parameter is deprecated in 0.19 and will be removed in 0.21. Use max_iter and tol instead.\n",
      "  DeprecationWarning)\n",
      "E:\\python\\lib\\site-packages\\sklearn\\linear_model\\stochastic_gradient.py:117: DeprecationWarning: n_iter parameter is deprecated in 0.19 and will be removed in 0.21. Use max_iter and tol instead.\n",
      "  DeprecationWarning)\n",
      "E:\\python\\lib\\site-packages\\sklearn\\linear_model\\stochastic_gradient.py:117: DeprecationWarning: n_iter parameter is deprecated in 0.19 and will be removed in 0.21. Use max_iter and tol instead.\n",
      "  DeprecationWarning)\n",
      "E:\\python\\lib\\site-packages\\sklearn\\linear_model\\stochastic_gradient.py:117: DeprecationWarning: n_iter parameter is deprecated in 0.19 and will be removed in 0.21. Use max_iter and tol instead.\n",
      "  DeprecationWarning)\n",
      "E:\\python\\lib\\site-packages\\sklearn\\linear_model\\stochastic_gradient.py:117: DeprecationWarning: n_iter parameter is deprecated in 0.19 and will be removed in 0.21. Use max_iter and tol instead.\n",
      "  DeprecationWarning)\n",
      "E:\\python\\lib\\site-packages\\sklearn\\linear_model\\stochastic_gradient.py:117: DeprecationWarning: n_iter parameter is deprecated in 0.19 and will be removed in 0.21. Use max_iter and tol instead.\n",
      "  DeprecationWarning)\n",
      "E:\\python\\lib\\site-packages\\sklearn\\linear_model\\stochastic_gradient.py:117: DeprecationWarning: n_iter parameter is deprecated in 0.19 and will be removed in 0.21. Use max_iter and tol instead.\n",
      "  DeprecationWarning)\n",
      "E:\\python\\lib\\site-packages\\sklearn\\linear_model\\stochastic_gradient.py:117: DeprecationWarning: n_iter parameter is deprecated in 0.19 and will be removed in 0.21. Use max_iter and tol instead.\n",
      "  DeprecationWarning)\n",
      "E:\\python\\lib\\site-packages\\sklearn\\linear_model\\stochastic_gradient.py:117: DeprecationWarning: n_iter parameter is deprecated in 0.19 and will be removed in 0.21. Use max_iter and tol instead.\n",
      "  DeprecationWarning)\n"
     ]
    },
    {
     "name": "stdout",
     "output_type": "stream",
     "text": [
      "             precision    recall  f1-score   support\n",
      "\n",
      "      Eight       0.00      0.00      0.00         1\n",
      "       Four       0.50      1.00      0.67         1\n",
      "       Nine       1.00      1.00      1.00         1\n",
      "  Seventeen       1.00      0.80      0.89         5\n",
      "    Sixteen       0.86      0.86      0.86        14\n",
      "        Ten       0.00      0.00      0.00         1\n",
      "     Twenty       1.00      1.00      1.00         1\n",
      "\n",
      "avg / total       0.81      0.79      0.80        24\n",
      "\n",
      "Accuracy: 0.7916666666666666\n"
     ]
    },
    {
     "name": "stderr",
     "output_type": "stream",
     "text": [
      "E:\\python\\lib\\site-packages\\sklearn\\linear_model\\stochastic_gradient.py:117: DeprecationWarning: n_iter parameter is deprecated in 0.19 and will be removed in 0.21. Use max_iter and tol instead.\n",
      "  DeprecationWarning)\n",
      "E:\\python\\lib\\site-packages\\sklearn\\metrics\\classification.py:1135: UndefinedMetricWarning: Precision and F-score are ill-defined and being set to 0.0 in labels with no predicted samples.\n",
      "  'precision', 'predicted', average, warn_for)\n"
     ]
    }
   ],
   "source": [
    "# Now I am gone use SGD Classifier \n",
    "sgd = SGDClassifier(n_jobs=-1, n_iter=10, random_state=1234)\n",
    "\n",
    "# hyperparameters for tuning\n",
    "sgd_grid = [{'loss': ['hinge', 'log', 'squared_hinge'],\n",
    "             'alpha': [0.0001, 0.0001, 0.00001]}]\n",
    "\n",
    "# grid search with cross validation\n",
    "sgd_search = GridSearchCV(estimator=sgd, param_grid=sgd_grid, cv=3, refit=True)\n",
    "sgd_search.fit(X_train, y_train)\n",
    "y_pred = mnb.predict(X_test)\n",
    "\n",
    "\n",
    "print(classification_report(y_test, y_pred))\n",
    "print(\"Accuracy:\",metrics.accuracy_score(y_test, y_pred))"
   ]
  },
  {
   "cell_type": "markdown",
   "metadata": {},
   "source": [
    "# 3. DECISION TREE CLASSIFIER"
   ]
  },
  {
   "cell_type": "code",
   "execution_count": 24,
   "metadata": {},
   "outputs": [
    {
     "name": "stdout",
     "output_type": "stream",
     "text": [
      "             precision    recall  f1-score   support\n",
      "\n",
      "      Eight       0.00      0.00      0.00         5\n",
      "     Eleven       0.00      0.00      0.00         1\n",
      "    Fifteen       0.00      0.00      0.00         1\n",
      "       Five       0.00      0.00      0.00         0\n",
      "       Four       0.00      0.00      0.00         1\n",
      "   Fourteen       0.00      0.00      0.00         1\n",
      "  Seventeen       0.00      0.00      0.00         6\n",
      "    Sixteen       0.72      0.88      0.79        43\n",
      "        Ten       0.00      0.00      0.00         1\n",
      "     Twenty       0.00      0.00      0.00         1\n",
      "\n",
      "avg / total       0.51      0.63      0.57        60\n",
      "\n",
      "Accuracy: 0.6333333333333333\n"
     ]
    },
    {
     "name": "stderr",
     "output_type": "stream",
     "text": [
      "E:\\python\\lib\\site-packages\\sklearn\\metrics\\classification.py:1135: UndefinedMetricWarning: Precision and F-score are ill-defined and being set to 0.0 in labels with no predicted samples.\n",
      "  'precision', 'predicted', average, warn_for)\n",
      "E:\\python\\lib\\site-packages\\sklearn\\metrics\\classification.py:1137: UndefinedMetricWarning: Recall and F-score are ill-defined and being set to 0.0 in labels with no true samples.\n",
      "  'recall', 'true', average, warn_for)\n"
     ]
    }
   ],
   "source": [
    "# convert data to vectors\n",
    "vectorizer = CountVectorizer(stop_words='english')\n",
    "X = vectorizer.fit_transform(data['Case'])\n",
    "y = data['Chapter']\n",
    "\n",
    "#I will split data 60%\n",
    "X_train, X_test, y_train, y_test = train_test_split(X, y, test_size=0.5) \n",
    "\n",
    "# Create Decision Tree classifer object\n",
    "clf = DecisionTreeClassifier(criterion=\"entropy\", max_depth=3)\n",
    "\n",
    "# Train Decision Tree Classifer\n",
    "clf = clf.fit(X_train,y_train)\n",
    "\n",
    "#Predict the response for test dataset\n",
    "y_pred = clf.predict(X_test)\n",
    "\n",
    "# Model Accuracy, how often is the classifier correct?\n",
    "print(classification_report(y_test, y_pred))\n",
    "print(\"Accuracy:\",metrics.accuracy_score(y_test, y_pred))"
   ]
  },
  {
   "cell_type": "markdown",
   "metadata": {},
   "source": [
    "# 4. SUPPORT VECTOR MACHINE"
   ]
  },
  {
   "cell_type": "code",
   "execution_count": 25,
   "metadata": {},
   "outputs": [
    {
     "name": "stdout",
     "output_type": "stream",
     "text": [
      "             precision    recall  f1-score   support\n",
      "\n",
      "      Eight       0.00      0.00      0.00         6\n",
      "     Eleven       0.00      0.00      0.00         1\n",
      "    Fifteen       0.00      0.00      0.00         1\n",
      "       Five       0.00      0.00      0.00         1\n",
      "       Four       0.00      0.00      0.00         1\n",
      "   Fourteen       0.00      0.00      0.00         1\n",
      "       Nine       0.00      0.00      0.00         1\n",
      "  Seventeen       0.00      0.00      0.00         9\n",
      "    Sixteen       0.63      1.00      0.78        38\n",
      "     Twenty       0.00      0.00      0.00         1\n",
      "\n",
      "avg / total       0.40      0.63      0.49        60\n",
      "\n",
      "Accuracy: 0.6333333333333333\n"
     ]
    },
    {
     "name": "stderr",
     "output_type": "stream",
     "text": [
      "E:\\python\\lib\\site-packages\\sklearn\\metrics\\classification.py:1135: UndefinedMetricWarning: Precision and F-score are ill-defined and being set to 0.0 in labels with no predicted samples.\n",
      "  'precision', 'predicted', average, warn_for)\n"
     ]
    }
   ],
   "source": [
    "# convert data to vectors\n",
    "vectorizer = CountVectorizer(stop_words='english')\n",
    "X = vectorizer.fit_transform(data['Case'])\n",
    "y = data['Chapter']\n",
    "\n",
    "#I will split data 60%\n",
    "X_train, X_test, y_train, y_test = train_test_split(X, y, test_size=0.5) \n",
    "\n",
    "# Create SVC object\n",
    "svc=SVC(kernel='linear')\n",
    "\n",
    "# SVC Classifer\n",
    "svc.fit(X_train,y_train)\n",
    "\n",
    "\n",
    "#Predict the response for test dataset\n",
    "y_pred=svc.predict(X_test)\n",
    "\n",
    "# Model Accuracy, how often is the classifier correct?\n",
    "print(classification_report(y_test, y_pred))\n",
    "print(\"Accuracy:\",metrics.accuracy_score(y_test, y_pred))"
   ]
  },
  {
   "cell_type": "markdown",
   "metadata": {},
   "source": [
    "# 5. Random Forest Classifier"
   ]
  },
  {
   "cell_type": "code",
   "execution_count": 26,
   "metadata": {},
   "outputs": [
    {
     "name": "stdout",
     "output_type": "stream",
     "text": [
      "             precision    recall  f1-score   support\n",
      "\n",
      "      Eight       0.50      0.17      0.25         6\n",
      "       Four       0.00      0.00      0.00         1\n",
      "   Fourteen       0.00      0.00      0.00         3\n",
      "       Nine       0.00      0.00      0.00         2\n",
      "  Seventeen       0.00      0.00      0.00         7\n",
      "    Sixteen       0.69      0.98      0.81        41\n",
      "\n",
      "avg / total       0.52      0.68      0.58        60\n",
      "\n",
      "Accuracy: 0.6833333333333333\n"
     ]
    },
    {
     "name": "stderr",
     "output_type": "stream",
     "text": [
      "E:\\python\\lib\\site-packages\\sklearn\\metrics\\classification.py:1135: UndefinedMetricWarning: Precision and F-score are ill-defined and being set to 0.0 in labels with no predicted samples.\n",
      "  'precision', 'predicted', average, warn_for)\n"
     ]
    }
   ],
   "source": [
    "# convert data to vectors\n",
    "vectorizer = CountVectorizer(stop_words='english')\n",
    "X = vectorizer.fit_transform(data['Case'])\n",
    "y = data['Chapter']\n",
    "\n",
    "#I will split data 60%\n",
    "X_train, X_test, y_train, y_test = train_test_split(X, y, test_size=0.5) \n",
    "\n",
    "# Create Random Forest Classifier object\n",
    "clf=RandomForestClassifier(n_estimators=100)\n",
    "\n",
    "# Train Random Forest Classifier\n",
    "clf.fit(X_train,y_train)\n",
    "\n",
    "#Predict the response for test dataset\n",
    "y_pred=clf.predict(X_test)\n",
    "\n",
    "# Model Accuracy, how often is the classifier correct?\n",
    "print(classification_report(y_test, y_pred))\n",
    "print(\"Accuracy:\",metrics.accuracy_score(y_test, y_pred))"
   ]
  },
  {
   "cell_type": "markdown",
   "metadata": {},
   "source": [
    "# 6. K NEIGHBORS CLASSIFIER"
   ]
  },
  {
   "cell_type": "code",
   "execution_count": 27,
   "metadata": {},
   "outputs": [
    {
     "name": "stdout",
     "output_type": "stream",
     "text": [
      "             precision    recall  f1-score   support\n",
      "\n",
      "      Eight       0.00      0.00      0.00         5\n",
      "     Eleven       0.00      0.00      0.00         1\n",
      "    Fifteen       0.00      0.00      0.00         1\n",
      "       Five       0.00      0.00      0.00         1\n",
      "   Fourteen       0.00      0.00      0.00         2\n",
      "       Nine       0.00      0.00      0.00         1\n",
      "  Seventeen       0.11      0.57      0.18         7\n",
      "    Sixteen       0.73      0.40      0.52        40\n",
      "        Ten       0.00      0.00      0.00         1\n",
      "     Twenty       0.00      0.00      0.00         1\n",
      "\n",
      "avg / total       0.50      0.33      0.36        60\n",
      "\n",
      "Accuracy: 0.3333333333333333\n"
     ]
    },
    {
     "name": "stderr",
     "output_type": "stream",
     "text": [
      "E:\\python\\lib\\site-packages\\sklearn\\metrics\\classification.py:1135: UndefinedMetricWarning: Precision and F-score are ill-defined and being set to 0.0 in labels with no predicted samples.\n",
      "  'precision', 'predicted', average, warn_for)\n"
     ]
    }
   ],
   "source": [
    "# convert data to vectors\n",
    "vectorizer = CountVectorizer(stop_words='english')\n",
    "X = vectorizer.fit_transform(data['Case'])\n",
    "y = data['Chapter']\n",
    "\n",
    "#I will split data 60%\n",
    "X_train, X_test, y_train, y_test = train_test_split(X, y, test_size=0.5) \n",
    "\n",
    "# Create K Neighbors Classifier object\n",
    "classifier = KNeighborsClassifier(n_neighbors=5)\n",
    "\n",
    "# Train K Neighbors Classifer\n",
    "classifier = classifier.fit(X_train, y_train)\n",
    "\n",
    "#Predict the response for test dataset\n",
    "y_pred = classifier.predict(X_test)\n",
    "\n",
    "# Model Accuracy, how often is the classifier correct?\n",
    "\n",
    "print(classification_report(y_test, y_pred))\n",
    "print(\"Accuracy:\",metrics.accuracy_score(y_test, y_pred))"
   ]
  },
  {
   "cell_type": "markdown",
   "metadata": {},
   "source": [
    "# 7. LOGISTIC REGRESSION"
   ]
  },
  {
   "cell_type": "code",
   "execution_count": 28,
   "metadata": {},
   "outputs": [
    {
     "name": "stdout",
     "output_type": "stream",
     "text": [
      "             precision    recall  f1-score   support\n",
      "\n",
      "      Eight       1.00      0.25      0.40         4\n",
      "       Five       0.00      0.00      0.00         2\n",
      "   Fourteen       0.00      0.00      0.00         1\n",
      "       Nine       0.00      0.00      0.00         1\n",
      "  Seventeen       0.33      0.17      0.22         6\n",
      "    Sixteen       0.77      1.00      0.87        43\n",
      "     Twenty       0.00      0.00      0.00         3\n",
      "\n",
      "avg / total       0.65      0.75      0.67        60\n",
      "\n",
      "Accuracy: 0.75\n"
     ]
    },
    {
     "name": "stderr",
     "output_type": "stream",
     "text": [
      "E:\\python\\lib\\site-packages\\sklearn\\metrics\\classification.py:1135: UndefinedMetricWarning: Precision and F-score are ill-defined and being set to 0.0 in labels with no predicted samples.\n",
      "  'precision', 'predicted', average, warn_for)\n"
     ]
    }
   ],
   "source": [
    "# convert data to vectors\n",
    "vectorizer = CountVectorizer(stop_words='english')\n",
    "X = vectorizer.fit_transform(data['Case'])\n",
    "y = data['Chapter']\n",
    "\n",
    "#I will split data 60%\n",
    "X_train, X_test, y_train, y_test = train_test_split(X, y, test_size=0.5) \n",
    "\n",
    "# Create Logistic Regression Classifier object\n",
    "logreg = LogisticRegression()\n",
    "\n",
    "# Train Logistic Regression Classifer\n",
    "logreg.fit(X_train,y_train)\n",
    "\n",
    "#Predict the response for test dataset\n",
    "y_pred=logreg.predict(X_test)\n",
    "\n",
    "# Model Accuracy, how often is the classifier correct?\n",
    "print(classification_report(y_test, y_pred))\n",
    "print(\"Accuracy:\",metrics.accuracy_score(y_test, y_pred))"
   ]
  },
  {
   "cell_type": "markdown",
   "metadata": {},
   "source": [
    "# CASE CHAPTER FUNCTION"
   ]
  },
  {
   "cell_type": "code",
   "execution_count": 29,
   "metadata": {},
   "outputs": [],
   "source": [
    "# Case Chapter function\n",
    "def Case1(Case2):\n",
    "    Chapter = {'Fourteen' : 'This case is comes under the 14th Chapter Of IPC', \n",
    "                  'Eleven' : 'This case is comes under the 11th Chapter of IPC', \n",
    "                  'Sixteen' : 'This case comes under the 16th Chapter of IPC',\n",
    "                  'Seventeen' : 'This case is comes under the 17th Chapter of IPC', \n",
    "                  'Twenty' : 'This case comes under the 20th Chapter of IPC', \n",
    "                   'Five' : 'This case is comes underr the 5th Chapter of IPC', \n",
    "                  'Four' : 'This case comes under the 4th Chapter of IPC', \n",
    "                   'Eight' : 'This case is comes underr the 8th Chapter of IPC', \n",
    "                  'Ten' : 'This case comes under the 10th Chapter of IPC', \n",
    "                   'Nine' : 'This case is comes underr the 9th Chapter of IPC', \n",
    "                  'Fifteen' : 'This case comes under the 15th Chapter of IPC'}\n",
    "               \n",
    "    pridicter = sgd_search.best_estimator_.predict(vectorizer.transform([Case2]))\n",
    "    return Chapter[pridicter[0]]"
   ]
  },
  {
   "cell_type": "code",
   "execution_count": 30,
   "metadata": {},
   "outputs": [
    {
     "data": {
      "text/plain": [
       "'This case comes under the 16th Chapter of IPC'"
      ]
     },
     "execution_count": 30,
     "metadata": {},
     "output_type": "execute_result"
    }
   ],
   "source": [
    "Case1(\"additionally respondent Makrand Singh for causing the death of three people, viz. Premchand Jain, his wife Anandi Devi and unmarried daughter Preeti, and for committing robbery of Rs. 30,000/in cash and about Rs. 8,00,000/worth of gold and silver.\")"
   ]
  },
  {
   "cell_type": "code",
   "execution_count": null,
   "metadata": {},
   "outputs": [],
   "source": []
  }
 ],
 "metadata": {
  "kernelspec": {
   "display_name": "Python 3",
   "language": "python",
   "name": "python3"
  },
  "language_info": {
   "codemirror_mode": {
    "name": "ipython",
    "version": 3
   },
   "file_extension": ".py",
   "mimetype": "text/x-python",
   "name": "python",
   "nbconvert_exporter": "python",
   "pygments_lexer": "ipython3",
   "version": "3.7.0"
  }
 },
 "nbformat": 4,
 "nbformat_minor": 2
}
