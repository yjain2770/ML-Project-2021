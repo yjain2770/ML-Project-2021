{
 "cells": [
  {
   "cell_type": "markdown",
   "metadata": {},
   "source": [
    "# IMPORTING ALL USEFUL LIBRARIES"
   ]
  },
  {
   "cell_type": "markdown",
   "metadata": {},
   "source": [
    "# LOADING DATASET USED"
   ]
  },
  {
   "cell_type": "code",
   "execution_count": 29,
   "metadata": {},
   "outputs": [],
   "source": [
    "# Load libraries\n",
    "import numpy as np\n",
    "import pandas as pd\n",
    "import matplotlib.pyplot as plt\n",
    "import seaborn as sns\n",
    "import pandas as pd\n",
    "\n",
    "# Import Decision Tree Classifier\n",
    "from sklearn.tree import DecisionTreeClassifier\n",
    "\n",
    "# Import SVC\n",
    "from sklearn.svm import SVC\n",
    "\n",
    "# Import Naive bayes\n",
    "from sklearn.naive_bayes import MultinomialNB\n",
    "\n",
    "# Import SGD Classifier\n",
    "from sklearn.linear_model import SGDClassifier\n",
    "\n",
    "# Import RandomForestClassifier\n",
    "from sklearn.ensemble import RandomForestClassifier\n",
    "\n",
    "# Import KNeighborsClassifier\n",
    "from sklearn.neighbors import KNeighborsClassifier\n",
    "\n",
    "# Import LogisticRegression\n",
    "from sklearn.linear_model import LogisticRegression\n",
    "\n",
    "# Import QDA\n",
    "from sklearn.discriminant_analysis import LinearDiscriminantAnalysis, QuadraticDiscriminantAnalysis\n",
    "\n",
    "# Import train_test_split function\n",
    "from sklearn.model_selection import train_test_split, GridSearchCV \n",
    "\n",
    "#Import scikit-learn metrics module for accuracy calculation\n",
    "from sklearn import metrics \n",
    "\n",
    "#Import CountVectorizer\n",
    "from sklearn.feature_extraction.text import CountVectorizer\n",
    "\n",
    "#Import classification_report\n",
    "from sklearn.metrics import classification_report\n",
    "\n",
    "from sklearn_evaluation.plot import confusion_matrix"
   ]
  },
  {
   "cell_type": "code",
   "execution_count": 30,
   "metadata": {},
   "outputs": [
    {
     "data": {
      "text/html": [
       "<div>\n",
       "<style scoped>\n",
       "    .dataframe tbody tr th:only-of-type {\n",
       "        vertical-align: middle;\n",
       "    }\n",
       "\n",
       "    .dataframe tbody tr th {\n",
       "        vertical-align: top;\n",
       "    }\n",
       "\n",
       "    .dataframe thead th {\n",
       "        text-align: right;\n",
       "    }\n",
       "</style>\n",
       "<table border=\"1\" class=\"dataframe\">\n",
       "  <thead>\n",
       "    <tr style=\"text-align: right;\">\n",
       "      <th></th>\n",
       "      <th>ID Number</th>\n",
       "      <th>Case</th>\n",
       "      <th>Section (IPC)</th>\n",
       "      <th>Judgment Date</th>\n",
       "      <th>Chapter</th>\n",
       "    </tr>\n",
       "  </thead>\n",
       "  <tbody>\n",
       "    <tr>\n",
       "      <th>0</th>\n",
       "      <td>1</td>\n",
       "      <td>The deceased in her statement stated that the ...</td>\n",
       "      <td>302</td>\n",
       "      <td>14-Mar-19</td>\n",
       "      <td>Sixteen</td>\n",
       "    </tr>\n",
       "    <tr>\n",
       "      <th>1</th>\n",
       "      <td>2</td>\n",
       "      <td>additionally respondent Makrand Singh for caus...</td>\n",
       "      <td>302</td>\n",
       "      <td>14-Jan-19</td>\n",
       "      <td>Sixteen</td>\n",
       "    </tr>\n",
       "    <tr>\n",
       "      <th>2</th>\n",
       "      <td>3</td>\n",
       "      <td>Ms. Kailashi was\\nreturning from the farm, in ...</td>\n",
       "      <td>304</td>\n",
       "      <td>10-Apr-19</td>\n",
       "      <td>Sixteen</td>\n",
       "    </tr>\n",
       "    <tr>\n",
       "      <th>3</th>\n",
       "      <td>4</td>\n",
       "      <td>When they reached near Advocate Mishra’s lane,...</td>\n",
       "      <td>294</td>\n",
       "      <td>19-Feb-19</td>\n",
       "      <td>Fourteen</td>\n",
       "    </tr>\n",
       "    <tr>\n",
       "      <th>4</th>\n",
       "      <td>5</td>\n",
       "      <td>It was stated that seven named persons includi...</td>\n",
       "      <td>452</td>\n",
       "      <td>11-Apr-19</td>\n",
       "      <td>Seventeen</td>\n",
       "    </tr>\n",
       "  </tbody>\n",
       "</table>\n",
       "</div>"
      ],
      "text/plain": [
       "   ID Number                                               Case Section (IPC)  \\\n",
       "0          1  The deceased in her statement stated that the ...           302   \n",
       "1          2  additionally respondent Makrand Singh for caus...           302   \n",
       "2          3  Ms. Kailashi was\\nreturning from the farm, in ...           304   \n",
       "3          4  When they reached near Advocate Mishra’s lane,...           294   \n",
       "4          5  It was stated that seven named persons includi...           452   \n",
       "\n",
       "  Judgment Date    Chapter  \n",
       "0     14-Mar-19    Sixteen  \n",
       "1     14-Jan-19    Sixteen  \n",
       "2     10-Apr-19    Sixteen  \n",
       "3     19-Feb-19   Fourteen  \n",
       "4     11-Apr-19  Seventeen  "
      ]
     },
     "execution_count": 30,
     "metadata": {},
     "output_type": "execute_result"
    }
   ],
   "source": [
    "# load dataset\n",
    "data = pd.read_csv(\"data.csv\")\n",
    "data.head()"
   ]
  },
  {
   "cell_type": "code",
   "execution_count": 31,
   "metadata": {},
   "outputs": [
    {
     "data": {
      "text/plain": [
       "array(['Sixteen', 'Fourteen', 'Seventeen', 'Twenty', 'Eight', 'Four',\n",
       "       'Ten', 'Nine', 'Eleven', 'Five', 'Fifteen'], dtype=object)"
      ]
     },
     "execution_count": 31,
     "metadata": {},
     "output_type": "execute_result"
    }
   ],
   "source": [
    "# unique category labels\n",
    "data['Chapter'].unique() "
   ]
  },
  {
   "cell_type": "markdown",
   "metadata": {},
   "source": [
    "# REPRESENTING FREQUENCY OF CHAPTERS"
   ]
  },
  {
   "cell_type": "code",
   "execution_count": 32,
   "metadata": {},
   "outputs": [
    {
     "data": {
      "text/plain": [
       "(-1.1142375321128322,\n",
       " 1.1006779792841213,\n",
       " -1.105451164586582,\n",
       " 1.1088341058560176)"
      ]
     },
     "execution_count": 32,
     "metadata": {},
     "output_type": "execute_result"
    },
    {
     "data": {
      "image/png": "[encoded data removed]",
      "text/plain": [
       "<Figure size 576x432 with 1 Axes>"
      ]
     },
     "metadata": {},
     "output_type": "display_data"
    }
   ],
   "source": [
    "data.Chapter.value_counts().plot(kind='pie', \n",
    "                                  figsize=(8,6), \n",
    "                                  fontsize=13, \n",
    "                                  autopct='%1.1f%%', \n",
    "                                  wedgeprops={'linewidth': 5}\n",
    "                                  )\n",
    "plt.axis('off')\n",
    "plt.axis('equal')"
   ]
  },
  {
   "cell_type": "code",
   "execution_count": 33,
   "metadata": {},
   "outputs": [
    {
     "name": "stderr",
     "output_type": "stream",
     "text": [
      "<ipython-input-33-f961c9767309>:2: FutureWarning: The default value of regex will change from True to False in a future version.\n",
      "  data['Case'] = data['Case'].str.replace('[^\\w\\s]','').str.lower()\n"
     ]
    }
   ],
   "source": [
    "#Lower Case and removing all puntuation marks from the \"Case\"\n",
    "data['Case'] = data['Case'].str.replace('[^\\w\\s]','').str.lower() "
   ]
  },
  {
   "cell_type": "markdown",
   "metadata": {},
   "source": [
    "# CREATING DATAFRAME FOR EACH CHAPTER"
   ]
  },
  {
   "cell_type": "code",
   "execution_count": 34,
   "metadata": {},
   "outputs": [],
   "source": [
    "# create dataframe for each Chapter\n",
    "IPC_14 = data.loc[data['Chapter'] == 'Fourteen'] \n",
    "IPC_16 = data.loc[data['Chapter'] == 'Sixteen'] \n",
    "IPC_17 = data.loc[data['Chapter'] == 'Seventeen'] \n",
    "IPC_20 = data.loc[data['Chapter'] == 'Twenty'] \n",
    "IPC_8 = data.loc[data['Chapter'] == 'Eight'] \n",
    "IPC_4 = data.loc[data['Chapter'] == 'Four'] \n",
    "IPC_10 = data.loc[data['Chapter'] == 'Ten'] \n",
    "IPC_9 = data.loc[data['Chapter'] == 'Nine'] \n",
    "IPC_5 = data.loc[data['Chapter'] == 'Five'] \n",
    "IPC_11 = data.loc[data['Chapter'] == 'Eleven'] \n",
    "IPC_15 = data.loc[data['Chapter'] == 'Fifteen'] \n",
    " \n",
    "Case_14 = IPC_14['Case'].to_string()\n",
    "Case_16 = IPC_16['Case'].to_string()\n",
    "Case_17 = IPC_17['Case'].to_string()\n",
    "Case_20 = IPC_20['Case'].to_string()\n",
    "Case_8 = IPC_8['Case'].to_string()\n",
    "Case_4 = IPC_4['Case'].to_string()\n",
    "Case_10 = IPC_10['Case'].to_string()\n",
    "Case_9 = IPC_9['Case'].to_string()\n",
    "Case_5 = IPC_5['Case'].to_string()\n",
    "Case_11 = IPC_11['Case'].to_string()\n",
    "Case_15 = IPC_15['Case'].to_string()"
   ]
  },
  {
   "cell_type": "markdown",
   "metadata": {},
   "source": [
    "# 1. NAVE BAYES"
   ]
  },
  {
   "cell_type": "code",
   "execution_count": 35,
   "metadata": {},
   "outputs": [
    {
     "name": "stdout",
     "output_type": "stream",
     "text": [
      "              precision    recall  f1-score   support\n",
      "\n",
      "       Eight       0.00      0.00      0.00         6\n",
      "      Eleven       0.00      0.00      0.00         0\n",
      "     Fifteen       0.00      0.00      0.00         1\n",
      "        Five       0.00      0.00      0.00         2\n",
      "        Four       0.00      0.00      0.00         1\n",
      "    Fourteen       0.00      0.00      0.00         2\n",
      "        Nine       0.00      0.00      0.00         2\n",
      "   Seventeen       0.10      0.17      0.12         6\n",
      "     Sixteen       0.74      0.86      0.80        37\n",
      "         Ten       0.00      0.00      0.00         0\n",
      "      Twenty       0.00      0.00      0.00         3\n",
      "\n",
      "    accuracy                           0.55        60\n",
      "   macro avg       0.08      0.09      0.08        60\n",
      "weighted avg       0.47      0.55      0.51        60\n",
      "\n",
      "Accuracy: 0.55\n"
     ]
    },
    {
     "name": "stderr",
     "output_type": "stream",
     "text": [
      "C:\\Users\\jain\\anaconda3\\lib\\site-packages\\sklearn\\metrics\\_classification.py:1308: UndefinedMetricWarning: Precision and F-score are ill-defined and being set to 0.0 in labels with no predicted samples. Use `zero_division` parameter to control this behavior.\n",
      "  _warn_prf(average, modifier, msg_start, len(result))\n",
      "C:\\Users\\jain\\anaconda3\\lib\\site-packages\\sklearn\\metrics\\_classification.py:1308: UndefinedMetricWarning: Recall and F-score are ill-defined and being set to 0.0 in labels with no true samples. Use `zero_division` parameter to control this behavior.\n",
      "  _warn_prf(average, modifier, msg_start, len(result))\n",
      "C:\\Users\\jain\\anaconda3\\lib\\site-packages\\sklearn\\metrics\\_classification.py:1308: UndefinedMetricWarning: Precision and F-score are ill-defined and being set to 0.0 in labels with no predicted samples. Use `zero_division` parameter to control this behavior.\n",
      "  _warn_prf(average, modifier, msg_start, len(result))\n",
      "C:\\Users\\jain\\anaconda3\\lib\\site-packages\\sklearn\\metrics\\_classification.py:1308: UndefinedMetricWarning: Recall and F-score are ill-defined and being set to 0.0 in labels with no true samples. Use `zero_division` parameter to control this behavior.\n",
      "  _warn_prf(average, modifier, msg_start, len(result))\n",
      "C:\\Users\\jain\\anaconda3\\lib\\site-packages\\sklearn\\metrics\\_classification.py:1308: UndefinedMetricWarning: Precision and F-score are ill-defined and being set to 0.0 in labels with no predicted samples. Use `zero_division` parameter to control this behavior.\n",
      "  _warn_prf(average, modifier, msg_start, len(result))\n",
      "C:\\Users\\jain\\anaconda3\\lib\\site-packages\\sklearn\\metrics\\_classification.py:1308: UndefinedMetricWarning: Recall and F-score are ill-defined and being set to 0.0 in labels with no true samples. Use `zero_division` parameter to control this behavior.\n",
      "  _warn_prf(average, modifier, msg_start, len(result))\n"
     ]
    }
   ],
   "source": [
    "# convert data to vectors\n",
    "vectorizer = CountVectorizer(stop_words='english')\n",
    "X = vectorizer.fit_transform(data['Case'])\n",
    "\n",
    "y = data['Chapter']\n",
    "\n",
    "#I will split data 60%\n",
    "X_train, X_test, y_train, y_test = train_test_split(X, y, test_size=0.5) \n",
    "\n",
    "# fit and score the bayesian classifier\n",
    "mnb = MultinomialNB(alpha=1)\n",
    "\n",
    "\n",
    "mnb.fit(X_train, y_train)\n",
    "\n",
    "y_pred = mnb.predict(X_test)\n",
    "\n",
    "\n",
    "print(classification_report(y_test, y_pred))\n",
    "print(\"Accuracy:\",metrics.accuracy_score(y_test, y_pred))"
   ]
  },
  {
   "cell_type": "markdown",
   "metadata": {},
   "source": [
    "# CONFUSION MATRIX"
   ]
  },
  {
   "cell_type": "code",
   "execution_count": 36,
   "metadata": {},
   "outputs": [
    {
     "data": {
      "image/png": "[encoded data removed]",
      "text/plain": [
       "<Figure size 432x288 with 2 Axes>"
      ]
     },
     "metadata": {
      "needs_background": "light"
     },
     "output_type": "display_data"
    }
   ],
   "source": [
    "#Confusion Matrix\n",
    "confusion_matrix(y_test, mnb.predict(X_test), target_names =\n",
    "        ['Sixteen', 'Fourteen', 'Seventeen', 'Twenty', 'Eight', 'Four', 'Ten', 'Nine', 'Five', 'Fifteen', 'Eleven']).grid(True)"
   ]
  },
  {
   "cell_type": "markdown",
   "metadata": {},
   "source": [
    "#  SGD CLASSIFIER"
   ]
  },
  {
   "cell_type": "code",
   "execution_count": 17,
   "metadata": {},
   "outputs": [
    {
     "ename": "TypeError",
     "evalue": "__init__() got an unexpected keyword argument 'n_iter'",
     "output_type": "error",
     "traceback": [
      "\u001b[1;31m---------------------------------------------------------------------------\u001b[0m",
      "\u001b[1;31mTypeError\u001b[0m                                 Traceback (most recent call last)",
      "\u001b[1;32m<ipython-input-17-f9c082e7a382>\u001b[0m in \u001b[0;36m<module>\u001b[1;34m\u001b[0m\n\u001b[0;32m      1\u001b[0m \u001b[1;31m# Now I am gone use SGD Classifier\u001b[0m\u001b[1;33m\u001b[0m\u001b[1;33m\u001b[0m\u001b[1;33m\u001b[0m\u001b[0m\n\u001b[1;32m----> 2\u001b[1;33m \u001b[0msgd\u001b[0m \u001b[1;33m=\u001b[0m \u001b[0mSGDClassifier\u001b[0m\u001b[1;33m(\u001b[0m\u001b[0mn_jobs\u001b[0m\u001b[1;33m=\u001b[0m\u001b[1;33m-\u001b[0m\u001b[1;36m1\u001b[0m\u001b[1;33m,\u001b[0m \u001b[0mn_iter\u001b[0m\u001b[1;33m=\u001b[0m\u001b[1;36m10\u001b[0m\u001b[1;33m,\u001b[0m \u001b[0mrandom_state\u001b[0m\u001b[1;33m=\u001b[0m\u001b[1;36m1234\u001b[0m\u001b[1;33m)\u001b[0m\u001b[1;33m\u001b[0m\u001b[1;33m\u001b[0m\u001b[0m\n\u001b[0m\u001b[0;32m      3\u001b[0m \u001b[1;33m\u001b[0m\u001b[0m\n\u001b[0;32m      4\u001b[0m \u001b[1;31m# hyperparameters for tuning\u001b[0m\u001b[1;33m\u001b[0m\u001b[1;33m\u001b[0m\u001b[1;33m\u001b[0m\u001b[0m\n\u001b[0;32m      5\u001b[0m sgd_grid = [{'loss': ['hinge', 'log', 'squared_hinge'],\n",
      "\u001b[1;31mTypeError\u001b[0m: __init__() got an unexpected keyword argument 'n_iter'"
     ]
    }
   ],
   "source": [
    "# Now I am gone use SGD Classifier \n",
    "sgd = SGDClassifier(n_jobs=-1, n_iter=10, random_state=1234)\n",
    "\n",
    "# hyperparameters for tuning\n",
    "sgd_grid = [{'loss': ['hinge', 'log', 'squared_hinge'],\n",
    "             'alpha': [0.0001, 0.0001, 0.00001]}]\n",
    "\n",
    "# grid search with cross validation\n",
    "sgd_search = GridSearchCV(estimator=sgd, param_grid=sgd_grid, cv=3, refit=True)\n",
    "sgd_search.fit(X_train, y_train)\n",
    "y_pred = mnb.predict(X_test)\n",
    "\n",
    "\n",
    "print(classification_report(y_test, y_pred))\n",
    "print(\"Accuracy:\",metrics.accuracy_score(y_test, y_pred))"
   ]
  },
  {
   "cell_type": "markdown",
   "metadata": {},
   "source": [
    "# 3. DECISION TREE CLASSIFIER"
   ]
  },
  {
   "cell_type": "code",
   "execution_count": 37,
   "metadata": {},
   "outputs": [
    {
     "name": "stdout",
     "output_type": "stream",
     "text": [
      "              precision    recall  f1-score   support\n",
      "\n",
      "       Eight       0.00      0.00      0.00         4\n",
      "      Eleven       0.00      0.00      0.00         1\n",
      "        Five       0.00      0.00      0.00         1\n",
      "    Fourteen       0.00      0.00      0.00         1\n",
      "        Nine       0.00      0.00      0.00         1\n",
      "   Seventeen       0.00      0.00      0.00         6\n",
      "     Sixteen       0.72      0.95      0.82        44\n",
      "      Twenty       0.00      0.00      0.00         2\n",
      "\n",
      "    accuracy                           0.70        60\n",
      "   macro avg       0.09      0.12      0.10        60\n",
      "weighted avg       0.53      0.70      0.60        60\n",
      "\n",
      "Accuracy: 0.7\n"
     ]
    },
    {
     "name": "stderr",
     "output_type": "stream",
     "text": [
      "C:\\Users\\jain\\anaconda3\\lib\\site-packages\\sklearn\\metrics\\_classification.py:1308: UndefinedMetricWarning: Precision and F-score are ill-defined and being set to 0.0 in labels with no predicted samples. Use `zero_division` parameter to control this behavior.\n",
      "  _warn_prf(average, modifier, msg_start, len(result))\n",
      "C:\\Users\\jain\\anaconda3\\lib\\site-packages\\sklearn\\metrics\\_classification.py:1308: UndefinedMetricWarning: Precision and F-score are ill-defined and being set to 0.0 in labels with no predicted samples. Use `zero_division` parameter to control this behavior.\n",
      "  _warn_prf(average, modifier, msg_start, len(result))\n",
      "C:\\Users\\jain\\anaconda3\\lib\\site-packages\\sklearn\\metrics\\_classification.py:1308: UndefinedMetricWarning: Precision and F-score are ill-defined and being set to 0.0 in labels with no predicted samples. Use `zero_division` parameter to control this behavior.\n",
      "  _warn_prf(average, modifier, msg_start, len(result))\n"
     ]
    }
   ],
   "source": [
    "# convert data to vectors\n",
    "vectorizer = CountVectorizer(stop_words='english')\n",
    "X = vectorizer.fit_transform(data['Case'])\n",
    "y = data['Chapter']\n",
    "\n",
    "#I will split data 60%\n",
    "X_train, X_test, y_train, y_test = train_test_split(X, y, test_size=0.5) \n",
    "\n",
    "# Create Decision Tree classifer object\n",
    "clf = DecisionTreeClassifier(criterion=\"entropy\", max_depth=3)\n",
    "\n",
    "# Train Decision Tree Classifer\n",
    "clf = clf.fit(X_train,y_train)\n",
    "\n",
    "#Predict the response for test dataset\n",
    "y_pred = clf.predict(X_test)\n",
    "\n",
    "# Model Accuracy, how often is the classifier correct?\n",
    "print(classification_report(y_test, y_pred))\n",
    "print(\"Accuracy:\",metrics.accuracy_score(y_test, y_pred))"
   ]
  },
  {
   "cell_type": "markdown",
   "metadata": {},
   "source": [
    "# 4. SUPPORT VECTOR MACHINE"
   ]
  },
  {
   "cell_type": "code",
   "execution_count": 38,
   "metadata": {},
   "outputs": [
    {
     "name": "stdout",
     "output_type": "stream",
     "text": [
      "              precision    recall  f1-score   support\n",
      "\n",
      "       Eight       0.00      0.00      0.00         3\n",
      "      Eleven       0.00      0.00      0.00         2\n",
      "    Fourteen       0.00      0.00      0.00         1\n",
      "        Nine       0.00      0.00      0.00         1\n",
      "   Seventeen       0.00      0.00      0.00         9\n",
      "     Sixteen       0.66      0.97      0.79        40\n",
      "         Ten       0.00      0.00      0.00         1\n",
      "      Twenty       0.00      0.00      0.00         3\n",
      "\n",
      "    accuracy                           0.65        60\n",
      "   macro avg       0.08      0.12      0.10        60\n",
      "weighted avg       0.44      0.65      0.53        60\n",
      "\n",
      "Accuracy: 0.65\n"
     ]
    },
    {
     "name": "stderr",
     "output_type": "stream",
     "text": [
      "C:\\Users\\jain\\anaconda3\\lib\\site-packages\\sklearn\\metrics\\_classification.py:1308: UndefinedMetricWarning: Precision and F-score are ill-defined and being set to 0.0 in labels with no predicted samples. Use `zero_division` parameter to control this behavior.\n",
      "  _warn_prf(average, modifier, msg_start, len(result))\n",
      "C:\\Users\\jain\\anaconda3\\lib\\site-packages\\sklearn\\metrics\\_classification.py:1308: UndefinedMetricWarning: Precision and F-score are ill-defined and being set to 0.0 in labels with no predicted samples. Use `zero_division` parameter to control this behavior.\n",
      "  _warn_prf(average, modifier, msg_start, len(result))\n",
      "C:\\Users\\jain\\anaconda3\\lib\\site-packages\\sklearn\\metrics\\_classification.py:1308: UndefinedMetricWarning: Precision and F-score are ill-defined and being set to 0.0 in labels with no predicted samples. Use `zero_division` parameter to control this behavior.\n",
      "  _warn_prf(average, modifier, msg_start, len(result))\n"
     ]
    }
   ],
   "source": [
    "# convert data to vectors\n",
    "vectorizer = CountVectorizer(stop_words='english')\n",
    "X = vectorizer.fit_transform(data['Case'])\n",
    "y = data['Chapter']\n",
    "\n",
    "#I will split data 60%\n",
    "X_train, X_test, y_train, y_test = train_test_split(X, y, test_size=0.5) \n",
    "\n",
    "# Create SVC object\n",
    "svc=SVC(kernel='linear')\n",
    "\n",
    "# SVC Classifer\n",
    "svc.fit(X_train,y_train)\n",
    "\n",
    "\n",
    "#Predict the response for test dataset\n",
    "y_pred=svc.predict(X_test)\n",
    "\n",
    "# Model Accuracy, how often is the classifier correct?\n",
    "print(classification_report(y_test, y_pred))\n",
    "print(\"Accuracy:\",metrics.accuracy_score(y_test, y_pred))"
   ]
  },
  {
   "cell_type": "markdown",
   "metadata": {},
   "source": [
    "# 5. Random Forest Classifier"
   ]
  },
  {
   "cell_type": "code",
   "execution_count": 39,
   "metadata": {},
   "outputs": [
    {
     "name": "stdout",
     "output_type": "stream",
     "text": [
      "              precision    recall  f1-score   support\n",
      "\n",
      "       Eight       0.00      0.00      0.00         1\n",
      "      Eleven       0.00      0.00      0.00         1\n",
      "     Fifteen       0.00      0.00      0.00         1\n",
      "        Five       0.00      0.00      0.00         1\n",
      "    Fourteen       0.00      0.00      0.00         2\n",
      "        Nine       0.00      0.00      0.00         2\n",
      "   Seventeen       0.00      0.00      0.00         6\n",
      "     Sixteen       0.75      0.98      0.85        45\n",
      "         Ten       0.00      0.00      0.00         1\n",
      "      Twenty       0.00      0.00      0.00         0\n",
      "\n",
      "    accuracy                           0.73        60\n",
      "   macro avg       0.07      0.10      0.08        60\n",
      "weighted avg       0.56      0.73      0.63        60\n",
      "\n",
      "Accuracy: 0.7333333333333333\n"
     ]
    },
    {
     "name": "stderr",
     "output_type": "stream",
     "text": [
      "C:\\Users\\jain\\anaconda3\\lib\\site-packages\\sklearn\\metrics\\_classification.py:1308: UndefinedMetricWarning: Precision and F-score are ill-defined and being set to 0.0 in labels with no predicted samples. Use `zero_division` parameter to control this behavior.\n",
      "  _warn_prf(average, modifier, msg_start, len(result))\n",
      "C:\\Users\\jain\\anaconda3\\lib\\site-packages\\sklearn\\metrics\\_classification.py:1308: UndefinedMetricWarning: Recall and F-score are ill-defined and being set to 0.0 in labels with no true samples. Use `zero_division` parameter to control this behavior.\n",
      "  _warn_prf(average, modifier, msg_start, len(result))\n",
      "C:\\Users\\jain\\anaconda3\\lib\\site-packages\\sklearn\\metrics\\_classification.py:1308: UndefinedMetricWarning: Precision and F-score are ill-defined and being set to 0.0 in labels with no predicted samples. Use `zero_division` parameter to control this behavior.\n",
      "  _warn_prf(average, modifier, msg_start, len(result))\n",
      "C:\\Users\\jain\\anaconda3\\lib\\site-packages\\sklearn\\metrics\\_classification.py:1308: UndefinedMetricWarning: Recall and F-score are ill-defined and being set to 0.0 in labels with no true samples. Use `zero_division` parameter to control this behavior.\n",
      "  _warn_prf(average, modifier, msg_start, len(result))\n",
      "C:\\Users\\jain\\anaconda3\\lib\\site-packages\\sklearn\\metrics\\_classification.py:1308: UndefinedMetricWarning: Precision and F-score are ill-defined and being set to 0.0 in labels with no predicted samples. Use `zero_division` parameter to control this behavior.\n",
      "  _warn_prf(average, modifier, msg_start, len(result))\n",
      "C:\\Users\\jain\\anaconda3\\lib\\site-packages\\sklearn\\metrics\\_classification.py:1308: UndefinedMetricWarning: Recall and F-score are ill-defined and being set to 0.0 in labels with no true samples. Use `zero_division` parameter to control this behavior.\n",
      "  _warn_prf(average, modifier, msg_start, len(result))\n"
     ]
    }
   ],
   "source": [
    "# convert data to vectors\n",
    "vectorizer = CountVectorizer(stop_words='english')\n",
    "X = vectorizer.fit_transform(data['Case'])\n",
    "y = data['Chapter']\n",
    "\n",
    "#I will split data 60%\n",
    "X_train, X_test, y_train, y_test = train_test_split(X, y, test_size=0.5) \n",
    "\n",
    "# Create Random Forest Classifier object\n",
    "clf=RandomForestClassifier(n_estimators=100)\n",
    "\n",
    "# Train Random Forest Classifier\n",
    "clf.fit(X_train,y_train)\n",
    "\n",
    "#Predict the response for test dataset\n",
    "y_pred=clf.predict(X_test)\n",
    "\n",
    "# Model Accuracy, how often is the classifier correct?\n",
    "print(classification_report(y_test, y_pred))\n",
    "print(\"Accuracy:\",metrics.accuracy_score(y_test, y_pred))"
   ]
  },
  {
   "cell_type": "markdown",
   "metadata": {},
   "source": [
    "# 6. K NEIGHBORS CLASSIFIER"
   ]
  },
  {
   "cell_type": "code",
   "execution_count": 40,
   "metadata": {},
   "outputs": [
    {
     "name": "stdout",
     "output_type": "stream",
     "text": [
      "              precision    recall  f1-score   support\n",
      "\n",
      "       Eight       0.00      0.00      0.00         7\n",
      "      Eleven       0.00      0.00      0.00         1\n",
      "        Five       0.00      0.00      0.00         1\n",
      "    Fourteen       0.00      0.00      0.00         1\n",
      "   Seventeen       0.00      0.00      0.00         3\n",
      "     Sixteen       0.75      1.00      0.86        45\n",
      "      Twenty       0.00      0.00      0.00         2\n",
      "\n",
      "    accuracy                           0.75        60\n",
      "   macro avg       0.11      0.14      0.12        60\n",
      "weighted avg       0.56      0.75      0.64        60\n",
      "\n",
      "Accuracy: 0.75\n"
     ]
    },
    {
     "name": "stderr",
     "output_type": "stream",
     "text": [
      "C:\\Users\\jain\\anaconda3\\lib\\site-packages\\sklearn\\metrics\\_classification.py:1308: UndefinedMetricWarning: Precision and F-score are ill-defined and being set to 0.0 in labels with no predicted samples. Use `zero_division` parameter to control this behavior.\n",
      "  _warn_prf(average, modifier, msg_start, len(result))\n",
      "C:\\Users\\jain\\anaconda3\\lib\\site-packages\\sklearn\\metrics\\_classification.py:1308: UndefinedMetricWarning: Precision and F-score are ill-defined and being set to 0.0 in labels with no predicted samples. Use `zero_division` parameter to control this behavior.\n",
      "  _warn_prf(average, modifier, msg_start, len(result))\n",
      "C:\\Users\\jain\\anaconda3\\lib\\site-packages\\sklearn\\metrics\\_classification.py:1308: UndefinedMetricWarning: Precision and F-score are ill-defined and being set to 0.0 in labels with no predicted samples. Use `zero_division` parameter to control this behavior.\n",
      "  _warn_prf(average, modifier, msg_start, len(result))\n"
     ]
    }
   ],
   "source": [
    "# convert data to vectors\n",
    "vectorizer = CountVectorizer(stop_words='english')\n",
    "X = vectorizer.fit_transform(data['Case'])\n",
    "y = data['Chapter']\n",
    "\n",
    "#I will split data 60%\n",
    "X_train, X_test, y_train, y_test = train_test_split(X, y, test_size=0.5) \n",
    "\n",
    "# Create K Neighbors Classifier object\n",
    "classifier = KNeighborsClassifier(n_neighbors=5)\n",
    "\n",
    "# Train K Neighbors Classifer\n",
    "classifier = classifier.fit(X_train, y_train)\n",
    "\n",
    "#Predict the response for test dataset\n",
    "y_pred = classifier.predict(X_test)\n",
    "\n",
    "# Model Accuracy, how often is the classifier correct?\n",
    "\n",
    "print(classification_report(y_test, y_pred))\n",
    "print(\"Accuracy:\",metrics.accuracy_score(y_test, y_pred))"
   ]
  },
  {
   "cell_type": "markdown",
   "metadata": {},
   "source": [
    "# 7. LOGISTIC REGRESSION"
   ]
  },
  {
   "cell_type": "code",
   "execution_count": 43,
   "metadata": {},
   "outputs": [
    {
     "name": "stdout",
     "output_type": "stream",
     "text": [
      "              precision    recall  f1-score   support\n",
      "\n",
      "       Eight       0.00      0.00      0.00         6\n",
      "     Fifteen       0.00      0.00      0.00         1\n",
      "        Five       0.00      0.00      0.00         2\n",
      "        Nine       0.00      0.00      0.00         1\n",
      "   Seventeen       0.00      0.00      0.00         6\n",
      "     Sixteen       0.69      0.98      0.81        42\n",
      "         Ten       0.00      0.00      0.00         1\n",
      "      Twenty       0.00      0.00      0.00         1\n",
      "\n",
      "    accuracy                           0.68        60\n",
      "   macro avg       0.09      0.12      0.10        60\n",
      "weighted avg       0.49      0.68      0.57        60\n",
      "\n",
      "Accuracy: 0.6833333333333333\n"
     ]
    },
    {
     "name": "stderr",
     "output_type": "stream",
     "text": [
      "C:\\Users\\jain\\anaconda3\\lib\\site-packages\\sklearn\\metrics\\_classification.py:1308: UndefinedMetricWarning: Precision and F-score are ill-defined and being set to 0.0 in labels with no predicted samples. Use `zero_division` parameter to control this behavior.\n",
      "  _warn_prf(average, modifier, msg_start, len(result))\n",
      "C:\\Users\\jain\\anaconda3\\lib\\site-packages\\sklearn\\metrics\\_classification.py:1308: UndefinedMetricWarning: Precision and F-score are ill-defined and being set to 0.0 in labels with no predicted samples. Use `zero_division` parameter to control this behavior.\n",
      "  _warn_prf(average, modifier, msg_start, len(result))\n",
      "C:\\Users\\jain\\anaconda3\\lib\\site-packages\\sklearn\\metrics\\_classification.py:1308: UndefinedMetricWarning: Precision and F-score are ill-defined and being set to 0.0 in labels with no predicted samples. Use `zero_division` parameter to control this behavior.\n",
      "  _warn_prf(average, modifier, msg_start, len(result))\n"
     ]
    }
   ],
   "source": [
    "# convert data to vectors\n",
    "vectorizer = CountVectorizer(stop_words='english')\n",
    "X = vectorizer.fit_transform(data['Case'])\n",
    "y = data['Chapter']\n",
    "\n",
    "#I will split data 60%\n",
    "X_train, X_test, y_train, y_test = train_test_split(X, y, test_size=0.5) \n",
    "\n",
    "# Create Logistic Regression Classifier object\n",
    "logreg = LogisticRegression()\n",
    "\n",
    "# Train Logistic Regression Classifer\n",
    "logreg.fit(X_train,y_train)\n",
    "\n",
    "#Predict the response for test dataset\n",
    "y_pred=logreg.predict(X_test)\n",
    "\n",
    "# Model Accuracy, how often is the classifier correct?\n",
    "print(classification_report(y_test, y_pred))\n",
    "print(\"Accuracy:\",metrics.accuracy_score(y_test, y_pred))"
   ]
  },
  {
   "cell_type": "markdown",
   "metadata": {},
   "source": [
    "# CASE CHAPTER FUNCTION"
   ]
  },
  {
   "cell_type": "code",
   "execution_count": 42,
   "metadata": {},
   "outputs": [],
   "source": [
    "# Case Chapter function\n",
    "def Case1(Case2):\n",
    "    Chapter = {'Fourteen' : 'This case is comes under the 14th Chapter Of IPC', \n",
    "                  'Eleven' : 'This case is comes under the 11th Chapter of IPC', \n",
    "                  'Sixteen' : 'This case comes under the 16th Chapter of IPC',\n",
    "                  'Seventeen' : 'This case is comes under the 17th Chapter of IPC', \n",
    "                  'Twenty' : 'This case comes under the 20th Chapter of IPC', \n",
    "                   'Five' : 'This case is comes underr the 5th Chapter of IPC', \n",
    "                  'Four' : 'This case comes under the 4th Chapter of IPC', \n",
    "                   'Eight' : 'This case is comes underr the 8th Chapter of IPC', \n",
    "                  'Ten' : 'This case comes under the 10th Chapter of IPC', \n",
    "                   'Nine' : 'This case is comes underr the 9th Chapter of IPC', \n",
    "                  'Fifteen' : 'This case comes under the 15th Chapter of IPC'}\n",
    "               \n",
    "    pridicter = sgd_search.best_estimator_.predict(vectorizer.transform([Case2]))\n",
    "    return Chapter[pridicter[0]]"
   ]
  },
  {
   "cell_type": "code",
   "execution_count": 25,
   "metadata": {},
   "outputs": [
    {
     "ename": "NameError",
     "evalue": "name 'sgd_search' is not defined",
     "output_type": "error",
     "traceback": [
      "\u001b[1;31m---------------------------------------------------------------------------\u001b[0m",
      "\u001b[1;31mNameError\u001b[0m                                 Traceback (most recent call last)",
      "\u001b[1;32m<ipython-input-25-26bbc65bde24>\u001b[0m in \u001b[0;36m<module>\u001b[1;34m\u001b[0m\n\u001b[1;32m----> 1\u001b[1;33m \u001b[0mCase1\u001b[0m\u001b[1;33m(\u001b[0m\u001b[1;34m\"additionally respondent Makrand Singh for causing the death of three people, viz. Premchand Jain, his wife Anandi Devi and unmarried daughter Preeti, and for committing robbery of Rs. 30,000/in cash and about Rs. 8,00,000/worth of gold and silver.\"\u001b[0m\u001b[1;33m)\u001b[0m\u001b[1;33m\u001b[0m\u001b[1;33m\u001b[0m\u001b[0m\n\u001b[0m",
      "\u001b[1;32m<ipython-input-24-fd2cbf6d2b99>\u001b[0m in \u001b[0;36mCase1\u001b[1;34m(Case2)\u001b[0m\n\u001b[0;32m     13\u001b[0m                   'Fifteen' : 'This case comes under the 15th Chapter of IPC'}\n\u001b[0;32m     14\u001b[0m \u001b[1;33m\u001b[0m\u001b[0m\n\u001b[1;32m---> 15\u001b[1;33m     \u001b[0mpridicter\u001b[0m \u001b[1;33m=\u001b[0m \u001b[0msgd_search\u001b[0m\u001b[1;33m.\u001b[0m\u001b[0mbest_estimator_\u001b[0m\u001b[1;33m.\u001b[0m\u001b[0mpredict\u001b[0m\u001b[1;33m(\u001b[0m\u001b[0mvectorizer\u001b[0m\u001b[1;33m.\u001b[0m\u001b[0mtransform\u001b[0m\u001b[1;33m(\u001b[0m\u001b[1;33m[\u001b[0m\u001b[0mCase2\u001b[0m\u001b[1;33m]\u001b[0m\u001b[1;33m)\u001b[0m\u001b[1;33m)\u001b[0m\u001b[1;33m\u001b[0m\u001b[1;33m\u001b[0m\u001b[0m\n\u001b[0m\u001b[0;32m     16\u001b[0m     \u001b[1;32mreturn\u001b[0m \u001b[0mChapter\u001b[0m\u001b[1;33m[\u001b[0m\u001b[0mpridicter\u001b[0m\u001b[1;33m[\u001b[0m\u001b[1;36m0\u001b[0m\u001b[1;33m]\u001b[0m\u001b[1;33m]\u001b[0m\u001b[1;33m\u001b[0m\u001b[1;33m\u001b[0m\u001b[0m\n",
      "\u001b[1;31mNameError\u001b[0m: name 'sgd_search' is not defined"
     ]
    }
   ],
   "source": [
    "Case1(\"additionally respondent Makrand Singh for causing the death of three people, viz. Premchand Jain, his wife Anandi Devi and unmarried daughter Preeti, and for committing robbery of Rs. 30,000/in cash and about Rs. 8,00,000/worth of gold and silver.\")"
   ]
  }
 ],
 "metadata": {
  "kernelspec": {
   "display_name": "Python 3",
   "language": "python",
   "name": "python3"
  },
  "language_info": {
   "codemirror_mode": {
    "name": "ipython",
    "version": 3
   },
   "file_extension": ".py",
   "mimetype": "text/x-python",
   "name": "python",
   "nbconvert_exporter": "python",
   "pygments_lexer": "ipython3",
   "version": "3.8.8"
  }
 },
 "nbformat": 4,
 "nbformat_minor": 2
}
